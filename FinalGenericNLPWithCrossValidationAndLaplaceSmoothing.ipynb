{
 "cells": [
  {
   "cell_type": "code",
   "execution_count": 1,
   "metadata": {},
   "outputs": [],
   "source": [
    "import pandas as pd\n",
    "from sklearn.model_selection import train_test_split\n",
    "import math\n",
    "import numpy as np\n",
    "from sklearn.feature_extraction.text import CountVectorizer\n",
    "from sklearn import metrics\n",
    "from sklearn.model_selection import KFold\n",
    "import time"
   ]
  },
  {
   "cell_type": "code",
   "execution_count": 2,
   "metadata": {},
   "outputs": [],
   "source": [
    "#Splitting and Vectorization\n",
    "def DataPrepocessing(X_train,y_train):\n",
    "    corpus=X_train\n",
    "    vectorizer = CountVectorizer()\n",
    "    x = vectorizer.fit_transform(corpus)\n",
    "    col=vectorizer.get_feature_names()\n",
    "    trainData=pd.DataFrame(x.toarray(),columns=col,index=y_train.index)\n",
    "    trainData['output']=y_train\n",
    "    return [trainData,col,vectorizer]\n",
    "\n",
    "#Training\n",
    "def Training(trainData,col):\n",
    "    outList=trainData['output'].value_counts().keys()\n",
    "    data=dict([(key,[]) for key in outList])\n",
    "    totalWords=dict([(key,[]) for key in outList])\n",
    "    DataSeries=dict([(key,[]) for key in outList])\n",
    "    ProbOutput=dict([(key,[]) for key in outList])\n",
    "    size=trainData.shape[0]\n",
    "    Total=len(col)\n",
    "    trainingDict=dict([(key,dict([(keys, 0) for keys in outList])) for key in col])\n",
    "    for i in outList:\n",
    "        data[i]=((trainData[trainData['output']==i]))\n",
    "        del data[i]['output']\n",
    "        ProbOutput[i]=data[i].shape[0]/size\n",
    "        DataSeries[i]=data[i].sum()\n",
    "        totalWords[i]=(DataSeries[i]).sum()\n",
    "        ind=DataSeries[i].index\n",
    "        for j in ind:\n",
    "            trainingDict[j][i]=(DataSeries[i][j]+1)/(totalWords[i]+Total)\n",
    "    return [trainingDict,ProbOutput,outList]\n",
    "#Testing\n",
    "def Testing(X_test,trainingDict,ProbOutput,outList,vectorizer):\n",
    "    corpus=X_test\n",
    "    val=vectorizer.transform(corpus)\n",
    "    col=vectorizer.get_feature_names()\n",
    "    ind=range(0,y_test.shape[0])\n",
    "    testData=pd.DataFrame(val.toarray(),columns=col,index=ind)\n",
    "    predict=[]\n",
    "    for i in ind:\n",
    "        q=np.nonzero(testData.iloc[i])\n",
    "        length=len(q[0])\n",
    "        Pred=dict([(key,1) for key in outList])\n",
    "        for j in range(0,length):\n",
    "            for k in Pred.keys():\n",
    "                Pred[k]=Pred[k]*trainingDict[col[q[0][j]]][k]\n",
    "        for j in Pred.keys():\n",
    "            Pred[j]=Pred[j]*ProbOutput[j]\n",
    "        predict.append(max(Pred,key=Pred.get))\n",
    "    return predict"
   ]
  },
  {
   "cell_type": "code",
   "execution_count": 6,
   "metadata": {},
   "outputs": [
    {
     "name": "stderr",
     "output_type": "stream",
     "text": [
      "C:\\Users\\Trivikram\\Anaconda3\\lib\\site-packages\\numpy\\core\\fromnumeric.py:61: FutureWarning: Series.nonzero() is deprecated and will be removed in a future version.Use Series.to_numpy().nonzero() instead\n",
      "  return bound(*args, **kwds)\n"
     ]
    },
    {
     "name": "stdout",
     "output_type": "stream",
     "text": [
      "[   8   12   15 ... 5561 5565 5567]\n"
     ]
    },
    {
     "name": "stderr",
     "output_type": "stream",
     "text": [
      "C:\\Users\\Trivikram\\Anaconda3\\lib\\site-packages\\numpy\\core\\fromnumeric.py:61: FutureWarning: Series.nonzero() is deprecated and will be removed in a future version.Use Series.to_numpy().nonzero() instead\n",
      "  return bound(*args, **kwds)\n"
     ]
    },
    {
     "name": "stdout",
     "output_type": "stream",
     "text": [
      "[  14   19   24 ... 5553 5569 5571]\n"
     ]
    },
    {
     "name": "stderr",
     "output_type": "stream",
     "text": [
      "C:\\Users\\Trivikram\\Anaconda3\\lib\\site-packages\\numpy\\core\\fromnumeric.py:61: FutureWarning: Series.nonzero() is deprecated and will be removed in a future version.Use Series.to_numpy().nonzero() instead\n",
      "  return bound(*args, **kwds)\n"
     ]
    },
    {
     "name": "stdout",
     "output_type": "stream",
     "text": [
      "[   0    6    7 ... 5554 5563 5566]\n"
     ]
    },
    {
     "name": "stderr",
     "output_type": "stream",
     "text": [
      "C:\\Users\\Trivikram\\Anaconda3\\lib\\site-packages\\numpy\\core\\fromnumeric.py:61: FutureWarning: Series.nonzero() is deprecated and will be removed in a future version.Use Series.to_numpy().nonzero() instead\n",
      "  return bound(*args, **kwds)\n"
     ]
    },
    {
     "name": "stdout",
     "output_type": "stream",
     "text": [
      "[   1    2   10 ... 5557 5559 5570]\n"
     ]
    },
    {
     "name": "stderr",
     "output_type": "stream",
     "text": [
      "C:\\Users\\Trivikram\\Anaconda3\\lib\\site-packages\\numpy\\core\\fromnumeric.py:61: FutureWarning: Series.nonzero() is deprecated and will be removed in a future version.Use Series.to_numpy().nonzero() instead\n",
      "  return bound(*args, **kwds)\n"
     ]
    },
    {
     "name": "stdout",
     "output_type": "stream",
     "text": [
      "[   3    4    5 ... 5562 5564 5568]\n",
      "The accuracy of this Algorithm with Cross Validation is 98.7078248384781\n"
     ]
    }
   ],
   "source": [
    "#Load Data\n",
    "df = pd.read_csv('https://raw.githubusercontent.com/justmarkham/pycon-2016-tutorial/master/data/sms.tsv',header=None,delimiter = '\\t')\n",
    "\n",
    "#Declaring Input and Output\n",
    "X=df[1]\n",
    "y=df[0]\n",
    "\n",
    "#Cross Validation creating an object of KFold which shall divide the dataset in 5 groups and apply our algorithm on each and every group\n",
    "kf=KFold(n_splits=5,shuffle=True,random_state=42)\n",
    "Predict=[None]*df.shape[0]\n",
    "for train_index,test_index in kf.split(X):\n",
    "    X_train, X_test = X.iloc[train_index], X.iloc[test_index]\n",
    "    y_train, y_test = y.iloc[train_index], y.iloc[test_index]\n",
    "    [trainData,col,vectorizer]=DataPrepocessing(X_train,y_train)\n",
    "    [trainingDict,ProbOutput,outList]=Training(trainData,col)\n",
    "    proxy=Testing(X_test,trainingDict,ProbOutput,outList,vectorizer)\n",
    "    for i in range(0,len(proxy)):\n",
    "        Predict[test_index[i]]=proxy[i]\n",
    "acc=metrics.accuracy_score(y, Predict)*100\n",
    "print(\"The accuracy of this Algorithm with Cross Validation is \"+str(acc))"
   ]
  },
  {
   "cell_type": "code",
   "execution_count": null,
   "metadata": {},
   "outputs": [],
   "source": []
  }
 ],
 "metadata": {
  "kernelspec": {
   "display_name": "Python 3",
   "language": "python",
   "name": "python3"
  },
  "language_info": {
   "codemirror_mode": {
    "name": "ipython",
    "version": 3
   },
   "file_extension": ".py",
   "mimetype": "text/x-python",
   "name": "python",
   "nbconvert_exporter": "python",
   "pygments_lexer": "ipython3",
   "version": "3.7.3"
  }
 },
 "nbformat": 4,
 "nbformat_minor": 2
}
