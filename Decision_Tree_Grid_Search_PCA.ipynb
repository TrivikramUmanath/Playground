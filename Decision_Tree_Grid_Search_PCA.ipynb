{
 "cells": [
  {
   "cell_type": "code",
   "execution_count": 1,
   "metadata": {},
   "outputs": [],
   "source": [
    "import pandas as pd\n",
    "import math\n",
    "from statistics import mode \n",
    "from sklearn.model_selection import train_test_split\n",
    "import numpy as np\n",
    "from sklearn import metrics\n",
    "import math\n",
    "import graphviz \n",
    "import matplotlib.pyplot as plt\n",
    "from sklearn.preprocessing import OneHotEncoder\n",
    "from sklearn.tree import DecisionTreeClassifier\n",
    "from sklearn.decomposition import PCA\n",
    "from IPython.display import Image  \n",
    "from sklearn import tree\n",
    "from sklearn.preprocessing import StandardScaler\n",
    "from sklearn.pipeline import Pipeline\n",
    "from sklearn.impute import SimpleImputer\n",
    "import pydotplus\n",
    "from sklearn.model_selection import GridSearchCV"
   ]
  },
  {
   "cell_type": "code",
   "execution_count": 2,
   "metadata": {},
   "outputs": [
    {
     "data": {
      "text/html": [
       "<div>\n",
       "<style scoped>\n",
       "    .dataframe tbody tr th:only-of-type {\n",
       "        vertical-align: middle;\n",
       "    }\n",
       "\n",
       "    .dataframe tbody tr th {\n",
       "        vertical-align: top;\n",
       "    }\n",
       "\n",
       "    .dataframe thead th {\n",
       "        text-align: right;\n",
       "    }\n",
       "</style>\n",
       "<table border=\"1\" class=\"dataframe\">\n",
       "  <thead>\n",
       "    <tr style=\"text-align: right;\">\n",
       "      <th></th>\n",
       "      <th>Age</th>\n",
       "      <th>Workplace</th>\n",
       "      <th>fnlwgt</th>\n",
       "      <th>education</th>\n",
       "      <th>education num</th>\n",
       "      <th>marital-stauts</th>\n",
       "      <th>occupation</th>\n",
       "      <th>relationship</th>\n",
       "      <th>race</th>\n",
       "      <th>sex</th>\n",
       "      <th>capital gain</th>\n",
       "      <th>capital loss</th>\n",
       "      <th>hours per week</th>\n",
       "      <th>native country</th>\n",
       "      <th>Salary</th>\n",
       "    </tr>\n",
       "  </thead>\n",
       "  <tbody>\n",
       "    <tr>\n",
       "      <th>0</th>\n",
       "      <td>39</td>\n",
       "      <td>State-gov</td>\n",
       "      <td>77516</td>\n",
       "      <td>Bachelors</td>\n",
       "      <td>13</td>\n",
       "      <td>Never-married</td>\n",
       "      <td>Adm-clerical</td>\n",
       "      <td>Not-in-family</td>\n",
       "      <td>White</td>\n",
       "      <td>Male</td>\n",
       "      <td>2174</td>\n",
       "      <td>0</td>\n",
       "      <td>40</td>\n",
       "      <td>United-States</td>\n",
       "      <td>&lt;=50K</td>\n",
       "    </tr>\n",
       "    <tr>\n",
       "      <th>1</th>\n",
       "      <td>50</td>\n",
       "      <td>Self-emp-not-inc</td>\n",
       "      <td>83311</td>\n",
       "      <td>Bachelors</td>\n",
       "      <td>13</td>\n",
       "      <td>Married-civ-spouse</td>\n",
       "      <td>Exec-managerial</td>\n",
       "      <td>Husband</td>\n",
       "      <td>White</td>\n",
       "      <td>Male</td>\n",
       "      <td>0</td>\n",
       "      <td>0</td>\n",
       "      <td>13</td>\n",
       "      <td>United-States</td>\n",
       "      <td>&lt;=50K</td>\n",
       "    </tr>\n",
       "    <tr>\n",
       "      <th>2</th>\n",
       "      <td>38</td>\n",
       "      <td>Private</td>\n",
       "      <td>215646</td>\n",
       "      <td>HS-grad</td>\n",
       "      <td>9</td>\n",
       "      <td>Divorced</td>\n",
       "      <td>Handlers-cleaners</td>\n",
       "      <td>Not-in-family</td>\n",
       "      <td>White</td>\n",
       "      <td>Male</td>\n",
       "      <td>0</td>\n",
       "      <td>0</td>\n",
       "      <td>40</td>\n",
       "      <td>United-States</td>\n",
       "      <td>&lt;=50K</td>\n",
       "    </tr>\n",
       "    <tr>\n",
       "      <th>3</th>\n",
       "      <td>53</td>\n",
       "      <td>Private</td>\n",
       "      <td>234721</td>\n",
       "      <td>11th</td>\n",
       "      <td>7</td>\n",
       "      <td>Married-civ-spouse</td>\n",
       "      <td>Handlers-cleaners</td>\n",
       "      <td>Husband</td>\n",
       "      <td>Black</td>\n",
       "      <td>Male</td>\n",
       "      <td>0</td>\n",
       "      <td>0</td>\n",
       "      <td>40</td>\n",
       "      <td>United-States</td>\n",
       "      <td>&lt;=50K</td>\n",
       "    </tr>\n",
       "    <tr>\n",
       "      <th>4</th>\n",
       "      <td>28</td>\n",
       "      <td>Private</td>\n",
       "      <td>338409</td>\n",
       "      <td>Bachelors</td>\n",
       "      <td>13</td>\n",
       "      <td>Married-civ-spouse</td>\n",
       "      <td>Prof-specialty</td>\n",
       "      <td>Wife</td>\n",
       "      <td>Black</td>\n",
       "      <td>Female</td>\n",
       "      <td>0</td>\n",
       "      <td>0</td>\n",
       "      <td>40</td>\n",
       "      <td>Cuba</td>\n",
       "      <td>&lt;=50K</td>\n",
       "    </tr>\n",
       "    <tr>\n",
       "      <th>...</th>\n",
       "      <td>...</td>\n",
       "      <td>...</td>\n",
       "      <td>...</td>\n",
       "      <td>...</td>\n",
       "      <td>...</td>\n",
       "      <td>...</td>\n",
       "      <td>...</td>\n",
       "      <td>...</td>\n",
       "      <td>...</td>\n",
       "      <td>...</td>\n",
       "      <td>...</td>\n",
       "      <td>...</td>\n",
       "      <td>...</td>\n",
       "      <td>...</td>\n",
       "      <td>...</td>\n",
       "    </tr>\n",
       "    <tr>\n",
       "      <th>32556</th>\n",
       "      <td>27</td>\n",
       "      <td>Private</td>\n",
       "      <td>257302</td>\n",
       "      <td>Assoc-acdm</td>\n",
       "      <td>12</td>\n",
       "      <td>Married-civ-spouse</td>\n",
       "      <td>Tech-support</td>\n",
       "      <td>Wife</td>\n",
       "      <td>White</td>\n",
       "      <td>Female</td>\n",
       "      <td>0</td>\n",
       "      <td>0</td>\n",
       "      <td>38</td>\n",
       "      <td>United-States</td>\n",
       "      <td>&lt;=50K</td>\n",
       "    </tr>\n",
       "    <tr>\n",
       "      <th>32557</th>\n",
       "      <td>40</td>\n",
       "      <td>Private</td>\n",
       "      <td>154374</td>\n",
       "      <td>HS-grad</td>\n",
       "      <td>9</td>\n",
       "      <td>Married-civ-spouse</td>\n",
       "      <td>Machine-op-inspct</td>\n",
       "      <td>Husband</td>\n",
       "      <td>White</td>\n",
       "      <td>Male</td>\n",
       "      <td>0</td>\n",
       "      <td>0</td>\n",
       "      <td>40</td>\n",
       "      <td>United-States</td>\n",
       "      <td>&gt;50K</td>\n",
       "    </tr>\n",
       "    <tr>\n",
       "      <th>32558</th>\n",
       "      <td>58</td>\n",
       "      <td>Private</td>\n",
       "      <td>151910</td>\n",
       "      <td>HS-grad</td>\n",
       "      <td>9</td>\n",
       "      <td>Widowed</td>\n",
       "      <td>Adm-clerical</td>\n",
       "      <td>Unmarried</td>\n",
       "      <td>White</td>\n",
       "      <td>Female</td>\n",
       "      <td>0</td>\n",
       "      <td>0</td>\n",
       "      <td>40</td>\n",
       "      <td>United-States</td>\n",
       "      <td>&lt;=50K</td>\n",
       "    </tr>\n",
       "    <tr>\n",
       "      <th>32559</th>\n",
       "      <td>22</td>\n",
       "      <td>Private</td>\n",
       "      <td>201490</td>\n",
       "      <td>HS-grad</td>\n",
       "      <td>9</td>\n",
       "      <td>Never-married</td>\n",
       "      <td>Adm-clerical</td>\n",
       "      <td>Own-child</td>\n",
       "      <td>White</td>\n",
       "      <td>Male</td>\n",
       "      <td>0</td>\n",
       "      <td>0</td>\n",
       "      <td>20</td>\n",
       "      <td>United-States</td>\n",
       "      <td>&lt;=50K</td>\n",
       "    </tr>\n",
       "    <tr>\n",
       "      <th>32560</th>\n",
       "      <td>52</td>\n",
       "      <td>Self-emp-inc</td>\n",
       "      <td>287927</td>\n",
       "      <td>HS-grad</td>\n",
       "      <td>9</td>\n",
       "      <td>Married-civ-spouse</td>\n",
       "      <td>Exec-managerial</td>\n",
       "      <td>Wife</td>\n",
       "      <td>White</td>\n",
       "      <td>Female</td>\n",
       "      <td>15024</td>\n",
       "      <td>0</td>\n",
       "      <td>40</td>\n",
       "      <td>United-States</td>\n",
       "      <td>&gt;50K</td>\n",
       "    </tr>\n",
       "  </tbody>\n",
       "</table>\n",
       "<p>32561 rows × 15 columns</p>\n",
       "</div>"
      ],
      "text/plain": [
       "       Age          Workplace  fnlwgt    education  education num  \\\n",
       "0       39          State-gov   77516    Bachelors             13   \n",
       "1       50   Self-emp-not-inc   83311    Bachelors             13   \n",
       "2       38            Private  215646      HS-grad              9   \n",
       "3       53            Private  234721         11th              7   \n",
       "4       28            Private  338409    Bachelors             13   \n",
       "...    ...                ...     ...          ...            ...   \n",
       "32556   27            Private  257302   Assoc-acdm             12   \n",
       "32557   40            Private  154374      HS-grad              9   \n",
       "32558   58            Private  151910      HS-grad              9   \n",
       "32559   22            Private  201490      HS-grad              9   \n",
       "32560   52       Self-emp-inc  287927      HS-grad              9   \n",
       "\n",
       "            marital-stauts          occupation    relationship    race  \\\n",
       "0            Never-married        Adm-clerical   Not-in-family   White   \n",
       "1       Married-civ-spouse     Exec-managerial         Husband   White   \n",
       "2                 Divorced   Handlers-cleaners   Not-in-family   White   \n",
       "3       Married-civ-spouse   Handlers-cleaners         Husband   Black   \n",
       "4       Married-civ-spouse      Prof-specialty            Wife   Black   \n",
       "...                    ...                 ...             ...     ...   \n",
       "32556   Married-civ-spouse        Tech-support            Wife   White   \n",
       "32557   Married-civ-spouse   Machine-op-inspct         Husband   White   \n",
       "32558              Widowed        Adm-clerical       Unmarried   White   \n",
       "32559        Never-married        Adm-clerical       Own-child   White   \n",
       "32560   Married-civ-spouse     Exec-managerial            Wife   White   \n",
       "\n",
       "           sex  capital gain  capital loss  hours per week  native country  \\\n",
       "0         Male          2174             0              40   United-States   \n",
       "1         Male             0             0              13   United-States   \n",
       "2         Male             0             0              40   United-States   \n",
       "3         Male             0             0              40   United-States   \n",
       "4       Female             0             0              40            Cuba   \n",
       "...        ...           ...           ...             ...             ...   \n",
       "32556   Female             0             0              38   United-States   \n",
       "32557     Male             0             0              40   United-States   \n",
       "32558   Female             0             0              40   United-States   \n",
       "32559     Male             0             0              20   United-States   \n",
       "32560   Female         15024             0              40   United-States   \n",
       "\n",
       "       Salary  \n",
       "0       <=50K  \n",
       "1       <=50K  \n",
       "2       <=50K  \n",
       "3       <=50K  \n",
       "4       <=50K  \n",
       "...       ...  \n",
       "32556   <=50K  \n",
       "32557    >50K  \n",
       "32558   <=50K  \n",
       "32559   <=50K  \n",
       "32560    >50K  \n",
       "\n",
       "[32561 rows x 15 columns]"
      ]
     },
     "execution_count": 2,
     "metadata": {},
     "output_type": "execute_result"
    }
   ],
   "source": [
    "df=pd.read_csv(\"C:\\\\Users\\\\Trivikram\\\\Machine_Learning\\\\Data\\\\adult.data\",header=None,names=['Age','Workplace','fnlwgt','education','education num','marital-stauts','occupation','relationship','race','sex','capital gain','capital loss','hours per week','native country','Salary'])\n",
    "df"
   ]
  },
  {
   "cell_type": "code",
   "execution_count": 3,
   "metadata": {},
   "outputs": [],
   "source": [
    "def removeQuestionMark(outCol,inpCol,X,y):\n",
    "    for i in inpCol:\n",
    "        repl=X[i].value_counts().keys().tolist()[0]\n",
    "        X[i]=X[i].replace(to_replace=' ?',value=repl)\n",
    "    rep=y[outCol[0]].value_counts().keys().tolist()[0]\n",
    "    y[outCol[0]]=y[outCol[0]].replace(to_replace=' ?',value=rep)\n",
    "    return[X,y]"
   ]
  },
  {
   "cell_type": "code",
   "execution_count": 4,
   "metadata": {},
   "outputs": [
    {
     "name": "stderr",
     "output_type": "stream",
     "text": [
      "C:\\Users\\Trivikram\\Anaconda3\\lib\\site-packages\\ipykernel_launcher.py:4: SettingWithCopyWarning: \n",
      "A value is trying to be set on a copy of a slice from a DataFrame.\n",
      "Try using .loc[row_indexer,col_indexer] = value instead\n",
      "\n",
      "See the caveats in the documentation: http://pandas.pydata.org/pandas-docs/stable/user_guide/indexing.html#returning-a-view-versus-a-copy\n",
      "  after removing the cwd from sys.path.\n",
      "C:\\Users\\Trivikram\\Anaconda3\\lib\\site-packages\\ipykernel_launcher.py:6: SettingWithCopyWarning: \n",
      "A value is trying to be set on a copy of a slice from a DataFrame.\n",
      "Try using .loc[row_indexer,col_indexer] = value instead\n",
      "\n",
      "See the caveats in the documentation: http://pandas.pydata.org/pandas-docs/stable/user_guide/indexing.html#returning-a-view-versus-a-copy\n",
      "  \n"
     ]
    }
   ],
   "source": [
    "y=df[['Salary']]\n",
    "X=df[['Age','fnlwgt','education num','capital gain','capital loss','hours per week','Workplace','education','race','sex','marital-stauts','occupation','relationship','native country']]\n",
    "inpCol=list(X.columns)\n",
    "outCol=list(y.columns)\n",
    "(X,y)=removeQuestionMark(outCol,inpCol,X,y)\n",
    "categCol=['Workplace','education','race','sex','marital-stauts','occupation','relationship','native country']\n",
    "contCol=['Age','fnlwgt','education num','capital gain','capital loss','hours per week']"
   ]
  },
  {
   "cell_type": "code",
   "execution_count": 5,
   "metadata": {},
   "outputs": [
    {
     "name": "stderr",
     "output_type": "stream",
     "text": [
      "C:\\Users\\Trivikram\\Anaconda3\\lib\\site-packages\\ipykernel_launcher.py:4: SettingWithCopyWarning: \n",
      "A value is trying to be set on a copy of a slice from a DataFrame.\n",
      "Try using .loc[row_indexer,col_indexer] = value instead\n",
      "\n",
      "See the caveats in the documentation: http://pandas.pydata.org/pandas-docs/stable/user_guide/indexing.html#returning-a-view-versus-a-copy\n",
      "  after removing the cwd from sys.path.\n",
      "C:\\Users\\Trivikram\\Anaconda3\\lib\\site-packages\\ipykernel_launcher.py:6: SettingWithCopyWarning: \n",
      "A value is trying to be set on a copy of a slice from a DataFrame.\n",
      "Try using .loc[row_indexer,col_indexer] = value instead\n",
      "\n",
      "See the caveats in the documentation: http://pandas.pydata.org/pandas-docs/stable/user_guide/indexing.html#returning-a-view-versus-a-copy\n",
      "  \n"
     ]
    }
   ],
   "source": [
    "X,y=removeQuestionMark(outCol,inpCol,X,y)\n",
    "CategData=X.select_dtypes(include='object')\n",
    "CategCol=CategData.columns\n",
    "ContData=X.select_dtypes(exclude='object')\n",
    "contCol=ContData.columns\n",
    "enc = OneHotEncoder(handle_unknown='ignore')\n",
    "binaryValues=enc.fit_transform(X[categCol]).toarray()\n",
    "newCol=list(enc.get_feature_names(categCol))\n",
    "categData = pd.DataFrame(binaryValues,columns=newCol,index=X.index)\n",
    "X=categData.merge(df[contCol],left_index=True,right_index=True)\n",
    "classNames=y['Salary'].value_counts().keys().tolist()"
   ]
  },
  {
   "cell_type": "code",
   "execution_count": 6,
   "metadata": {},
   "outputs": [
    {
     "name": "stdout",
     "output_type": "stream",
     "text": [
      "[0, 0.1, 0.2, 0.30000000000000004, 0.4, 0.5, 0.6, 0.7, 0.7999999999999999, 0.8999999999999999, 0.9999999999999999, 1.0999999999999999, 1.2, 1.3, 1.4000000000000001, 1.5000000000000002, 1.6000000000000003, 1.7000000000000004, 1.8000000000000005, 1.9000000000000006, 2.0000000000000004]\n"
     ]
    }
   ],
   "source": [
    "decreaseList=[]\n",
    "decreaseList.append(0)\n",
    "for i in range(0,20):\n",
    "    decreaseList.append(float(decreaseList[i]+0.1))\n",
    "print(decreaseList)"
   ]
  },
  {
   "cell_type": "code",
   "execution_count": null,
   "metadata": {},
   "outputs": [
    {
     "name": "stdout",
     "output_type": "stream",
     "text": [
      "Fitting 5 folds for each of 100 candidates, totalling 500 fits\n"
     ]
    },
    {
     "name": "stderr",
     "output_type": "stream",
     "text": [
      "[Parallel(n_jobs=1)]: Using backend SequentialBackend with 1 concurrent workers.\n"
     ]
    },
    {
     "name": "stdout",
     "output_type": "stream",
     "text": [
      "[CV] dt__min_impurity_decrease=0.45, dt__min_samples_split=25, pca__n_components=5 \n",
      "[CV]  dt__min_impurity_decrease=0.45, dt__min_samples_split=25, pca__n_components=5, score=0.759, total=   1.5s\n",
      "[CV] dt__min_impurity_decrease=0.45, dt__min_samples_split=25, pca__n_components=5 \n"
     ]
    },
    {
     "name": "stderr",
     "output_type": "stream",
     "text": [
      "[Parallel(n_jobs=1)]: Done   1 out of   1 | elapsed:    1.4s remaining:    0.0s\n"
     ]
    },
    {
     "name": "stdout",
     "output_type": "stream",
     "text": [
      "[CV]  dt__min_impurity_decrease=0.45, dt__min_samples_split=25, pca__n_components=5, score=0.759, total=   1.1s\n",
      "[CV] dt__min_impurity_decrease=0.45, dt__min_samples_split=25, pca__n_components=5 \n"
     ]
    },
    {
     "name": "stderr",
     "output_type": "stream",
     "text": [
      "[Parallel(n_jobs=1)]: Done   2 out of   2 | elapsed:    2.4s remaining:    0.0s\n"
     ]
    },
    {
     "name": "stdout",
     "output_type": "stream",
     "text": [
      "[CV]  dt__min_impurity_decrease=0.45, dt__min_samples_split=25, pca__n_components=5, score=0.759, total=   0.7s\n",
      "[CV] dt__min_impurity_decrease=0.45, dt__min_samples_split=25, pca__n_components=5 \n"
     ]
    },
    {
     "name": "stderr",
     "output_type": "stream",
     "text": [
      "[Parallel(n_jobs=1)]: Done   3 out of   3 | elapsed:    3.2s remaining:    0.0s\n"
     ]
    },
    {
     "name": "stdout",
     "output_type": "stream",
     "text": [
      "[CV]  dt__min_impurity_decrease=0.45, dt__min_samples_split=25, pca__n_components=5, score=0.759, total=   0.7s\n",
      "[CV] dt__min_impurity_decrease=0.45, dt__min_samples_split=25, pca__n_components=5 \n"
     ]
    },
    {
     "name": "stderr",
     "output_type": "stream",
     "text": [
      "[Parallel(n_jobs=1)]: Done   4 out of   4 | elapsed:    3.9s remaining:    0.0s\n"
     ]
    },
    {
     "name": "stdout",
     "output_type": "stream",
     "text": [
      "[CV]  dt__min_impurity_decrease=0.45, dt__min_samples_split=25, pca__n_components=5, score=0.759, total=   0.6s\n",
      "[CV] dt__min_impurity_decrease=0.45, dt__min_samples_split=25, pca__n_components=15 \n"
     ]
    },
    {
     "name": "stderr",
     "output_type": "stream",
     "text": [
      "[Parallel(n_jobs=1)]: Done   5 out of   5 | elapsed:    4.5s remaining:    0.0s\n"
     ]
    },
    {
     "name": "stdout",
     "output_type": "stream",
     "text": [
      "[CV]  dt__min_impurity_decrease=0.45, dt__min_samples_split=25, pca__n_components=15, score=0.759, total=   0.7s\n",
      "[CV] dt__min_impurity_decrease=0.45, dt__min_samples_split=25, pca__n_components=15 \n"
     ]
    },
    {
     "name": "stderr",
     "output_type": "stream",
     "text": [
      "[Parallel(n_jobs=1)]: Done   6 out of   6 | elapsed:    5.2s remaining:    0.0s\n"
     ]
    },
    {
     "name": "stdout",
     "output_type": "stream",
     "text": [
      "[CV]  dt__min_impurity_decrease=0.45, dt__min_samples_split=25, pca__n_components=15, score=0.759, total=   0.7s\n",
      "[CV] dt__min_impurity_decrease=0.45, dt__min_samples_split=25, pca__n_components=15 \n"
     ]
    },
    {
     "name": "stderr",
     "output_type": "stream",
     "text": [
      "[Parallel(n_jobs=1)]: Done   7 out of   7 | elapsed:    5.9s remaining:    0.0s\n"
     ]
    },
    {
     "name": "stdout",
     "output_type": "stream",
     "text": [
      "[CV]  dt__min_impurity_decrease=0.45, dt__min_samples_split=25, pca__n_components=15, score=0.759, total=   0.7s\n",
      "[CV] dt__min_impurity_decrease=0.45, dt__min_samples_split=25, pca__n_components=15 \n"
     ]
    },
    {
     "name": "stderr",
     "output_type": "stream",
     "text": [
      "[Parallel(n_jobs=1)]: Done   8 out of   8 | elapsed:    6.6s remaining:    0.0s\n"
     ]
    },
    {
     "name": "stdout",
     "output_type": "stream",
     "text": [
      "[CV]  dt__min_impurity_decrease=0.45, dt__min_samples_split=25, pca__n_components=15, score=0.759, total=   0.9s\n",
      "[CV] dt__min_impurity_decrease=0.45, dt__min_samples_split=25, pca__n_components=15 \n"
     ]
    },
    {
     "name": "stderr",
     "output_type": "stream",
     "text": [
      "[Parallel(n_jobs=1)]: Done   9 out of   9 | elapsed:    7.5s remaining:    0.0s\n"
     ]
    },
    {
     "name": "stdout",
     "output_type": "stream",
     "text": [
      "[CV]  dt__min_impurity_decrease=0.45, dt__min_samples_split=25, pca__n_components=15, score=0.759, total=   0.9s\n",
      "[CV] dt__min_impurity_decrease=0.45, dt__min_samples_split=25, pca__n_components=30 \n",
      "[CV]  dt__min_impurity_decrease=0.45, dt__min_samples_split=25, pca__n_components=30, score=0.759, total=   1.0s\n",
      "[CV] dt__min_impurity_decrease=0.45, dt__min_samples_split=25, pca__n_components=30 \n",
      "[CV]  dt__min_impurity_decrease=0.45, dt__min_samples_split=25, pca__n_components=30, score=0.759, total=   0.9s\n",
      "[CV] dt__min_impurity_decrease=0.45, dt__min_samples_split=25, pca__n_components=30 \n",
      "[CV]  dt__min_impurity_decrease=0.45, dt__min_samples_split=25, pca__n_components=30, score=0.759, total=   0.9s\n",
      "[CV] dt__min_impurity_decrease=0.45, dt__min_samples_split=25, pca__n_components=30 \n",
      "[CV]  dt__min_impurity_decrease=0.45, dt__min_samples_split=25, pca__n_components=30, score=0.759, total=   0.9s\n",
      "[CV] dt__min_impurity_decrease=0.45, dt__min_samples_split=25, pca__n_components=30 \n",
      "[CV]  dt__min_impurity_decrease=0.45, dt__min_samples_split=25, pca__n_components=30, score=0.759, total=   0.9s\n",
      "[CV] dt__min_impurity_decrease=0.45, dt__min_samples_split=25, pca__n_components=45 \n",
      "[CV]  dt__min_impurity_decrease=0.45, dt__min_samples_split=25, pca__n_components=45, score=0.759, total=   1.1s\n",
      "[CV] dt__min_impurity_decrease=0.45, dt__min_samples_split=25, pca__n_components=45 \n",
      "[CV]  dt__min_impurity_decrease=0.45, dt__min_samples_split=25, pca__n_components=45, score=0.759, total=   1.1s\n",
      "[CV] dt__min_impurity_decrease=0.45, dt__min_samples_split=25, pca__n_components=45 \n",
      "[CV]  dt__min_impurity_decrease=0.45, dt__min_samples_split=25, pca__n_components=45, score=0.759, total=   1.1s\n",
      "[CV] dt__min_impurity_decrease=0.45, dt__min_samples_split=25, pca__n_components=45 \n",
      "[CV]  dt__min_impurity_decrease=0.45, dt__min_samples_split=25, pca__n_components=45, score=0.759, total=   1.3s\n",
      "[CV] dt__min_impurity_decrease=0.45, dt__min_samples_split=25, pca__n_components=45 \n",
      "[CV]  dt__min_impurity_decrease=0.45, dt__min_samples_split=25, pca__n_components=45, score=0.759, total=   1.1s\n",
      "[CV] dt__min_impurity_decrease=0.45, dt__min_samples_split=26, pca__n_components=5 \n",
      "[CV]  dt__min_impurity_decrease=0.45, dt__min_samples_split=26, pca__n_components=5, score=0.759, total=   0.5s\n",
      "[CV] dt__min_impurity_decrease=0.45, dt__min_samples_split=26, pca__n_components=5 \n",
      "[CV]  dt__min_impurity_decrease=0.45, dt__min_samples_split=26, pca__n_components=5, score=0.759, total=   0.5s\n",
      "[CV] dt__min_impurity_decrease=0.45, dt__min_samples_split=26, pca__n_components=5 \n",
      "[CV]  dt__min_impurity_decrease=0.45, dt__min_samples_split=26, pca__n_components=5, score=0.759, total=   0.6s\n",
      "[CV] dt__min_impurity_decrease=0.45, dt__min_samples_split=26, pca__n_components=5 \n",
      "[CV]  dt__min_impurity_decrease=0.45, dt__min_samples_split=26, pca__n_components=5, score=0.759, total=   0.5s\n",
      "[CV] dt__min_impurity_decrease=0.45, dt__min_samples_split=26, pca__n_components=5 \n",
      "[CV]  dt__min_impurity_decrease=0.45, dt__min_samples_split=26, pca__n_components=5, score=0.759, total=   1.1s\n",
      "[CV] dt__min_impurity_decrease=0.45, dt__min_samples_split=26, pca__n_components=15 \n",
      "[CV]  dt__min_impurity_decrease=0.45, dt__min_samples_split=26, pca__n_components=15, score=0.759, total=   0.9s\n",
      "[CV] dt__min_impurity_decrease=0.45, dt__min_samples_split=26, pca__n_components=15 \n",
      "[CV]  dt__min_impurity_decrease=0.45, dt__min_samples_split=26, pca__n_components=15, score=0.759, total=   0.6s\n",
      "[CV] dt__min_impurity_decrease=0.45, dt__min_samples_split=26, pca__n_components=15 \n",
      "[CV]  dt__min_impurity_decrease=0.45, dt__min_samples_split=26, pca__n_components=15, score=0.759, total=   0.6s\n",
      "[CV] dt__min_impurity_decrease=0.45, dt__min_samples_split=26, pca__n_components=15 \n",
      "[CV]  dt__min_impurity_decrease=0.45, dt__min_samples_split=26, pca__n_components=15, score=0.759, total=   0.7s\n",
      "[CV] dt__min_impurity_decrease=0.45, dt__min_samples_split=26, pca__n_components=15 \n",
      "[CV]  dt__min_impurity_decrease=0.45, dt__min_samples_split=26, pca__n_components=15, score=0.759, total=   0.6s\n",
      "[CV] dt__min_impurity_decrease=0.45, dt__min_samples_split=26, pca__n_components=30 \n",
      "[CV]  dt__min_impurity_decrease=0.45, dt__min_samples_split=26, pca__n_components=30, score=0.759, total=   0.9s\n",
      "[CV] dt__min_impurity_decrease=0.45, dt__min_samples_split=26, pca__n_components=30 \n",
      "[CV]  dt__min_impurity_decrease=0.45, dt__min_samples_split=26, pca__n_components=30, score=0.759, total=   1.0s\n",
      "[CV] dt__min_impurity_decrease=0.45, dt__min_samples_split=26, pca__n_components=30 \n",
      "[CV]  dt__min_impurity_decrease=0.45, dt__min_samples_split=26, pca__n_components=30, score=0.759, total=   0.9s\n",
      "[CV] dt__min_impurity_decrease=0.45, dt__min_samples_split=26, pca__n_components=30 \n",
      "[CV]  dt__min_impurity_decrease=0.45, dt__min_samples_split=26, pca__n_components=30, score=0.759, total=   1.0s\n",
      "[CV] dt__min_impurity_decrease=0.45, dt__min_samples_split=26, pca__n_components=30 \n",
      "[CV]  dt__min_impurity_decrease=0.45, dt__min_samples_split=26, pca__n_components=30, score=0.759, total=   1.0s\n",
      "[CV] dt__min_impurity_decrease=0.45, dt__min_samples_split=26, pca__n_components=45 \n",
      "[CV]  dt__min_impurity_decrease=0.45, dt__min_samples_split=26, pca__n_components=45, score=0.759, total=   1.5s\n",
      "[CV] dt__min_impurity_decrease=0.45, dt__min_samples_split=26, pca__n_components=45 \n",
      "[CV]  dt__min_impurity_decrease=0.45, dt__min_samples_split=26, pca__n_components=45, score=0.759, total=   2.1s\n",
      "[CV] dt__min_impurity_decrease=0.45, dt__min_samples_split=26, pca__n_components=45 \n",
      "[CV]  dt__min_impurity_decrease=0.45, dt__min_samples_split=26, pca__n_components=45, score=0.759, total=   1.8s\n",
      "[CV] dt__min_impurity_decrease=0.45, dt__min_samples_split=26, pca__n_components=45 \n",
      "[CV]  dt__min_impurity_decrease=0.45, dt__min_samples_split=26, pca__n_components=45, score=0.759, total=   1.7s\n",
      "[CV] dt__min_impurity_decrease=0.45, dt__min_samples_split=26, pca__n_components=45 \n",
      "[CV]  dt__min_impurity_decrease=0.45, dt__min_samples_split=26, pca__n_components=45, score=0.759, total=   1.4s\n",
      "[CV] dt__min_impurity_decrease=0.45, dt__min_samples_split=27, pca__n_components=5 \n",
      "[CV]  dt__min_impurity_decrease=0.45, dt__min_samples_split=27, pca__n_components=5, score=0.759, total=   0.6s\n",
      "[CV] dt__min_impurity_decrease=0.45, dt__min_samples_split=27, pca__n_components=5 \n",
      "[CV]  dt__min_impurity_decrease=0.45, dt__min_samples_split=27, pca__n_components=5, score=0.759, total=   0.5s\n",
      "[CV] dt__min_impurity_decrease=0.45, dt__min_samples_split=27, pca__n_components=5 \n",
      "[CV]  dt__min_impurity_decrease=0.45, dt__min_samples_split=27, pca__n_components=5, score=0.759, total=   0.5s\n",
      "[CV] dt__min_impurity_decrease=0.45, dt__min_samples_split=27, pca__n_components=5 \n",
      "[CV]  dt__min_impurity_decrease=0.45, dt__min_samples_split=27, pca__n_components=5, score=0.759, total=   0.5s\n",
      "[CV] dt__min_impurity_decrease=0.45, dt__min_samples_split=27, pca__n_components=5 \n",
      "[CV]  dt__min_impurity_decrease=0.45, dt__min_samples_split=27, pca__n_components=5, score=0.759, total=   0.4s\n",
      "[CV] dt__min_impurity_decrease=0.45, dt__min_samples_split=27, pca__n_components=15 \n",
      "[CV]  dt__min_impurity_decrease=0.45, dt__min_samples_split=27, pca__n_components=15, score=0.759, total=   0.6s\n",
      "[CV] dt__min_impurity_decrease=0.45, dt__min_samples_split=27, pca__n_components=15 \n",
      "[CV]  dt__min_impurity_decrease=0.45, dt__min_samples_split=27, pca__n_components=15, score=0.759, total=   0.7s\n",
      "[CV] dt__min_impurity_decrease=0.45, dt__min_samples_split=27, pca__n_components=15 \n",
      "[CV]  dt__min_impurity_decrease=0.45, dt__min_samples_split=27, pca__n_components=15, score=0.759, total=   0.7s\n",
      "[CV] dt__min_impurity_decrease=0.45, dt__min_samples_split=27, pca__n_components=15 \n",
      "[CV]  dt__min_impurity_decrease=0.45, dt__min_samples_split=27, pca__n_components=15, score=0.759, total=   0.6s\n",
      "[CV] dt__min_impurity_decrease=0.45, dt__min_samples_split=27, pca__n_components=15 \n",
      "[CV]  dt__min_impurity_decrease=0.45, dt__min_samples_split=27, pca__n_components=15, score=0.759, total=   0.6s\n",
      "[CV] dt__min_impurity_decrease=0.45, dt__min_samples_split=27, pca__n_components=30 \n",
      "[CV]  dt__min_impurity_decrease=0.45, dt__min_samples_split=27, pca__n_components=30, score=0.759, total=   0.9s\n",
      "[CV] dt__min_impurity_decrease=0.45, dt__min_samples_split=27, pca__n_components=30 \n"
     ]
    },
    {
     "name": "stdout",
     "output_type": "stream",
     "text": [
      "[CV]  dt__min_impurity_decrease=0.45, dt__min_samples_split=27, pca__n_components=30, score=0.759, total=   0.8s\n",
      "[CV] dt__min_impurity_decrease=0.45, dt__min_samples_split=27, pca__n_components=30 \n",
      "[CV]  dt__min_impurity_decrease=0.45, dt__min_samples_split=27, pca__n_components=30, score=0.759, total=   0.9s\n",
      "[CV] dt__min_impurity_decrease=0.45, dt__min_samples_split=27, pca__n_components=30 \n",
      "[CV]  dt__min_impurity_decrease=0.45, dt__min_samples_split=27, pca__n_components=30, score=0.759, total=   0.8s\n",
      "[CV] dt__min_impurity_decrease=0.45, dt__min_samples_split=27, pca__n_components=30 \n",
      "[CV]  dt__min_impurity_decrease=0.45, dt__min_samples_split=27, pca__n_components=30, score=0.759, total=   1.1s\n",
      "[CV] dt__min_impurity_decrease=0.45, dt__min_samples_split=27, pca__n_components=45 \n",
      "[CV]  dt__min_impurity_decrease=0.45, dt__min_samples_split=27, pca__n_components=45, score=0.759, total=   3.6s\n",
      "[CV] dt__min_impurity_decrease=0.45, dt__min_samples_split=27, pca__n_components=45 \n",
      "[CV]  dt__min_impurity_decrease=0.45, dt__min_samples_split=27, pca__n_components=45, score=0.759, total=   2.5s\n",
      "[CV] dt__min_impurity_decrease=0.45, dt__min_samples_split=27, pca__n_components=45 \n",
      "[CV]  dt__min_impurity_decrease=0.45, dt__min_samples_split=27, pca__n_components=45, score=0.759, total=   2.6s\n",
      "[CV] dt__min_impurity_decrease=0.45, dt__min_samples_split=27, pca__n_components=45 \n",
      "[CV]  dt__min_impurity_decrease=0.45, dt__min_samples_split=27, pca__n_components=45, score=0.759, total=   2.1s\n",
      "[CV] dt__min_impurity_decrease=0.45, dt__min_samples_split=27, pca__n_components=45 \n",
      "[CV]  dt__min_impurity_decrease=0.45, dt__min_samples_split=27, pca__n_components=45, score=0.759, total=   1.5s\n",
      "[CV] dt__min_impurity_decrease=0.45, dt__min_samples_split=28, pca__n_components=5 \n",
      "[CV]  dt__min_impurity_decrease=0.45, dt__min_samples_split=28, pca__n_components=5, score=0.759, total=   0.5s\n",
      "[CV] dt__min_impurity_decrease=0.45, dt__min_samples_split=28, pca__n_components=5 \n"
     ]
    }
   ],
   "source": [
    "pca = PCA()\n",
    "dt = DecisionTreeClassifier(criterion='entropy',random_state=42)\n",
    "pipe = Pipeline(steps=[('pca', pca), ('dt', dt)])\n",
    "param_grid = {\n",
    "    'pca__n_components': [5, 15, 30, 45],\n",
    "    'dt__min_samples_split': range(25,30),\n",
    "    'dt__min_impurity_decrease':[0.45,0.5,0.6,0.7,0.8]\n",
    "}\n",
    "grid_search = GridSearchCV(estimator = pipe, param_grid = param_grid,cv = 5,verbose=10)\n",
    "grid_search.fit(X,y)\n",
    "print(grid_search.score(X,y))\n",
    "pipe=grid_search.best_estimator_"
   ]
  },
  {
   "cell_type": "code",
   "execution_count": 8,
   "metadata": {},
   "outputs": [
    {
     "name": "stdout",
     "output_type": "stream",
     "text": [
      "Pipeline(memory=None,\n",
      "         steps=[('pca',\n",
      "                 PCA(copy=True, iterated_power='auto', n_components=5,\n",
      "                     random_state=None, svd_solver='auto', tol=0.0,\n",
      "                     whiten=False)),\n",
      "                ('dt',\n",
      "                 DecisionTreeClassifier(class_weight=None, criterion='entropy',\n",
      "                                        max_depth=None, max_features=None,\n",
      "                                        max_leaf_nodes=None,\n",
      "                                        min_impurity_decrease=0.45,\n",
      "                                        min_impurity_split=None,\n",
      "                                        min_samples_leaf=1,\n",
      "                                        min_samples_split=25,\n",
      "                                        min_weight_fraction_leaf=0.0,\n",
      "                                        presort=False, random_state=42,\n",
      "                                        splitter='best'))],\n",
      "         verbose=False)\n"
     ]
    }
   ],
   "source": [
    "print(pipe)"
   ]
  },
  {
   "cell_type": "code",
   "execution_count": null,
   "metadata": {},
   "outputs": [],
   "source": []
  }
 ],
 "metadata": {
  "kernelspec": {
   "display_name": "Python 3",
   "language": "python",
   "name": "python3"
  },
  "language_info": {
   "codemirror_mode": {
    "name": "ipython",
    "version": 3
   },
   "file_extension": ".py",
   "mimetype": "text/x-python",
   "name": "python",
   "nbconvert_exporter": "python",
   "pygments_lexer": "ipython3",
   "version": "3.7.3"
  }
 },
 "nbformat": 4,
 "nbformat_minor": 2
}
